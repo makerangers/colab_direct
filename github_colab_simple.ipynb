{
  "nbformat": 4,
  "nbformat_minor": 0,
  "metadata": {
    "colab": {
      "provenance": [],
      "authorship_tag": "ABX9TyN9QYbs7Kp4cUWSzw/qCTxc",
      "include_colab_link": true
    },
    "kernelspec": {
      "name": "python3",
      "display_name": "Python 3"
    },
    "language_info": {
      "name": "python"
    }
  },
  "cells": [
    {
      "cell_type": "markdown",
      "metadata": {
        "id": "view-in-github",
        "colab_type": "text"
      },
      "source": [
        "<a href=\"https://colab.research.google.com/github/makerangers/colab_direct/blob/main/github_colab_simple.ipynb\" target=\"_parent\"><img src=\"https://colab.research.google.com/assets/colab-badge.svg\" alt=\"Open In Colab\"/></a>"
      ]
    },
    {
      "cell_type": "code",
      "execution_count": null,
      "metadata": {
        "id": "dYtFTs-6PiQ2"
      },
      "outputs": [],
      "source": [
        "# prompt: 1부터 100까지 더하는 파이썬 코드 작성해\n",
        "\n",
        "sum(range(1, 101))\n"
      ]
    }
  ]
}